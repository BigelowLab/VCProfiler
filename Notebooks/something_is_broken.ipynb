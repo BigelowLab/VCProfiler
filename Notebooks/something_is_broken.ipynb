{
 "cells": [
  {
   "cell_type": "code",
   "execution_count": 10,
   "metadata": {
    "collapsed": true,
    "jupyter": {
     "outputs_hidden": true
    }
   },
   "outputs": [],
   "source": [
    "import vcprofiler as vcp\n",
    "import glob\n",
    "import os.path as op\n",
    "import shutil"
   ]
  },
  {
   "cell_type": "code",
   "execution_count": 4,
   "metadata": {},
   "outputs": [],
   "source": [
    "logs = glob.glob(\"/home/julia/out/180628_vcp/*.out\")"
   ]
  },
  {
   "cell_type": "code",
   "execution_count": 6,
   "metadata": {},
   "outputs": [],
   "source": [
    "err = []\n",
    "for l in logs:\n",
    "    with open(l) as ih:\n",
    "        if \"ValueError:\" in ih.read():\n",
    "            err.append(l) "
   ]
  },
  {
   "cell_type": "code",
   "execution_count": 16,
   "metadata": {},
   "outputs": [
    {
     "ename": "AssertionError",
     "evalue": "/mnt/scgc/simon/simonsproject/jb_vs_test/gorg_virus_qc/vcp/vcprofiles/AG-435-B19",
     "output_type": "error",
     "traceback": [
      "\u001b[1;31m---------------------------------------------------------------------------\u001b[0m",
      "\u001b[1;31mAssertionError\u001b[0m                            Traceback (most recent call last)",
      "\u001b[1;32m<ipython-input-16-e16065f2a168>\u001b[0m in \u001b[0;36m<module>\u001b[1;34m()\u001b[0m\n\u001b[0;32m      2\u001b[0m     \u001b[0msag\u001b[0m \u001b[1;33m=\u001b[0m \u001b[0mop\u001b[0m\u001b[1;33m.\u001b[0m\u001b[0mbasename\u001b[0m\u001b[1;33m(\u001b[0m\u001b[0ml\u001b[0m\u001b[1;33m)\u001b[0m\u001b[1;33m.\u001b[0m\u001b[0mreplace\u001b[0m\u001b[1;33m(\u001b[0m\u001b[1;34m\".out\"\u001b[0m\u001b[1;33m,\u001b[0m\u001b[1;34m\"\"\u001b[0m\u001b[1;33m)\u001b[0m\u001b[1;33m\u001b[0m\u001b[0m\n\u001b[0;32m      3\u001b[0m     \u001b[0mdeldir\u001b[0m \u001b[1;33m=\u001b[0m \u001b[1;34m\"/mnt/scgc/simon/simonsproject/jb_vs_test/gorg_virus_qc/vcp/vcprofiles/{sag}\"\u001b[0m\u001b[1;33m.\u001b[0m\u001b[0mformat\u001b[0m\u001b[1;33m(\u001b[0m\u001b[0msag\u001b[0m\u001b[1;33m=\u001b[0m\u001b[0msag\u001b[0m\u001b[1;33m)\u001b[0m\u001b[1;33m\u001b[0m\u001b[0m\n\u001b[1;32m----> 4\u001b[1;33m     \u001b[1;32massert\u001b[0m \u001b[0mop\u001b[0m\u001b[1;33m.\u001b[0m\u001b[0mexists\u001b[0m\u001b[1;33m(\u001b[0m\u001b[0mdeldir\u001b[0m\u001b[1;33m)\u001b[0m\u001b[1;33m,\u001b[0m \u001b[0mdeldir\u001b[0m\u001b[1;33m\u001b[0m\u001b[0m\n\u001b[0m\u001b[0;32m      5\u001b[0m     \u001b[1;31m#shutil.rmtree(deldir)\u001b[0m\u001b[1;33m\u001b[0m\u001b[1;33m\u001b[0m\u001b[0m\n",
      "\u001b[1;31mAssertionError\u001b[0m: /mnt/scgc/simon/simonsproject/jb_vs_test/gorg_virus_qc/vcp/vcprofiles/AG-435-B19"
     ]
    }
   ],
   "source": [
    "for l in logs:\n",
    "    sag = op.basename(l).replace(\".out\",\"\")\n",
    "    deldir = \"/mnt/scgc/simon/simonsproject/jb_vs_test/gorg_virus_qc/vcp/vcprofiles/{sag}\".format(sag=sag)\n",
    "    assert op.exists(deldir), deldir\n",
    "    #shutil.rmtree(deldir)"
   ]
  },
  {
   "cell_type": "markdown",
   "metadata": {},
   "source": [
    "File \"/mnt/scgc_nfs/opt/common/anaconda3/4.0.0/bin/vcprofiler\", line 9, in <module>\n",
    "    load_entry_point('vcprofiler==0.0', 'console_scripts', 'vcprofiler')()\n",
    "  File \"/mnt/scgc_nfs/opt/common/anaconda3/4.0.0/lib/python3.5/site-packages/click-6.6-py3.5.egg/click/core.py\", line 716, in __call__\n",
    "    return self.main(*args, **kwargs)\n",
    "  File \"/mnt/scgc_nfs/opt/common/anaconda3/4.0.0/lib/python3.5/site-packages/click-6.6-py3.5.egg/click/core.py\", line 696, in main\n",
    "    rv = self.invoke(ctx)\n",
    "  File \"/mnt/scgc_nfs/opt/common/anaconda3/4.0.0/lib/python3.5/site-packages/click-6.6-py3.5.egg/click/core.py\", line 1060, in invoke\n",
    "    return _process_result(sub_ctx.command.invoke(sub_ctx))\n",
    "  File \"/mnt/scgc_nfs/opt/common/anaconda3/4.0.0/lib/python3.5/site-packages/click-6.6-py3.5.egg/click/core.py\", line 889, in invoke\n",
    "    return ctx.invoke(self.callback, **ctx.params)\n",
    "  File \"/mnt/scgc_nfs/opt/common/anaconda3/4.0.0/lib/python3.5/site-packages/click-6.6-py3.5.egg/click/core.py\", line 534, in invoke\n",
    "    return callback(*args, **kwargs)\n",
    "  File \"/mnt/scgc_nfs/opt/common/anaconda3/4.0.0/lib/python3.5/site-packages/vcprofiler-0.0-py3.5.egg/vcprofiler/__main__.py\", line 110, in run_vog_hmm\n",
    "  File \"/mnt/scgc_nfs/opt/common/anaconda3/4.0.0/lib/python3.5/site-packages/vcprofiler-0.0-py3.5.egg/vcprofiler/hmmer_tools.py\", line 108, in vog_hmm\n",
    "  File \"/mnt/scgc_nfs/opt/common/anaconda3/4.0.0/lib/python3.5/site-packages/vcprofiler-0.0-py3.5.egg/vcprofiler/hmmer_tools.py\", line 51, in hmm_hits_per_contig\n",
    "  File \"/mnt/scgc_nfs/opt/common/anaconda3/4.0.0/lib/python3.5/site-packages/pandas/core/groupby/groupby.py\", line 3933, in count\n",
    "    out = np.bincount(ids[mask], minlength=ngroups or 0)\n",
    "ValueError: minlength must be positive"
   ]
  },
  {
   "cell_type": "code",
   "execution_count": 17,
   "metadata": {
    "collapsed": true,
    "jupyter": {
     "outputs_hidden": true
    }
   },
   "outputs": [],
   "source": [
    "def get_proteins(sag):\n",
    "\n",
    "    prots = op.join(\"/mnt/scgc/simon/simonsproject/\",\"bats_vs/prodigal\",\"{}_proteins.fasta\".format(sag))\n",
    "    if not op.exists(prots):\n",
    "        prots = op.join(\"/mnt/scgc/simon/simonsproject/\",\"gss_vs/prodigal\",\"{}_proteins.fasta\".format(sag))\n",
    "\n",
    "    assert op.exists(prots), \"Could not find {} at this location \\n {}\".format(sag, prots)\n",
    "    return prots"
   ]
  },
  {
   "cell_type": "code",
   "execution_count": 22,
   "metadata": {},
   "outputs": [],
   "source": [
    "sag = 'AG-435-P10'\n",
    "prots = get_proteins(sag)"
   ]
  },
  {
   "cell_type": "code",
   "execution_count": 23,
   "metadata": {
    "collapsed": true,
    "jupyter": {
     "outputs_hidden": true
    }
   },
   "outputs": [],
   "source": [
    "out_dir = '/mnt/scgc/simon/simonsproject/jb_vs_test/gorg_virus_qc/vcp/vcprofiles/'\n",
    "outdir = op.join(out_dir, sag)"
   ]
  },
  {
   "cell_type": "code",
   "execution_count": 29,
   "metadata": {
    "collapsed": true,
    "jupyter": {
     "outputs_hidden": true
    }
   },
   "outputs": [],
   "source": [
    "vcp_cmd = 'vcprofiler vog-hmm --outdir {out_dir} --threads 10 --max-eval 0.00001 --prot --overwrite --yaml-file /mnt/scgc_nfs/lab/julia/notebooks/VCProfiler/vcprofiler.yaml {prots}'.format(out_dir=outdir, prots=prots)\n",
    "vcp_cmd = 'vcprofiler vog-hmm --outdir {out_dir} --threads 10 --max-eval 0.00001 --prot --yaml-file /mnt/scgc_nfs/lab/julia/notebooks/VCProfiler/vcprofiler.yaml {prots}'.format(out_dir=outdir, prots=prots)"
   ]
  },
  {
   "cell_type": "code",
   "execution_count": 30,
   "metadata": {},
   "outputs": [
    {
     "data": {
      "text/plain": [
       "'vcprofiler vog-hmm --outdir /mnt/scgc/simon/simonsproject/jb_vs_test/gorg_virus_qc/vcp/vcprofiles/AG-435-P10 --threads 10 --max-eval 0.00001 --prot --yaml-file /mnt/scgc_nfs/lab/julia/notebooks/VCProfiler/vcprofiler.yaml /mnt/scgc/simon/simonsproject/gss_vs/prodigal/AG-435-P10_proteins.fasta'"
      ]
     },
     "execution_count": 30,
     "metadata": {},
     "output_type": "execute_result"
    }
   ],
   "source": [
    "vcp_cmd"
   ]
  },
  {
   "cell_type": "code",
   "execution_count": 28,
   "metadata": {},
   "outputs": [],
   "source": [
    "if not op.exists(op.join(outdir, '{}_proteins_vs_vog_orf_summary.csv'.format(sag))):\n",
    "    print(\"go\")\n",
    "    print(op.join(outdir, '{}_proteins_vs_vog_orf_summary.csv'.format(sag)))\n",
    "                "
   ]
  },
  {
   "cell_type": "code",
   "execution_count": null,
   "metadata": {
    "collapsed": true,
    "jupyter": {
     "outputs_hidden": true
    }
   },
   "outputs": [],
   "source": []
  }
 ],
 "metadata": {
  "kernelspec": {
   "display_name": "Python 3",
   "language": "python",
   "name": "python3"
  },
  "language_info": {
   "codemirror_mode": {
    "name": "ipython",
    "version": 3
   },
   "file_extension": ".py",
   "mimetype": "text/x-python",
   "name": "python",
   "nbconvert_exporter": "python",
   "pygments_lexer": "ipython3",
   "version": "3.6.7"
  }
 },
 "nbformat": 4,
 "nbformat_minor": 4
}
