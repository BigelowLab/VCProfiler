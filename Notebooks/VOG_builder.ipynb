{
 "cells": [
  {
   "cell_type": "code",
   "execution_count": 1,
   "metadata": {},
   "outputs": [],
   "source": [
    "import pandas as pd\n",
    "from viruscope import readfa\n",
    "import os\n",
    "import os.path as op\n",
    "import glob\n",
    "from collections import Counter"
   ]
  },
  {
   "cell_type": "markdown",
   "metadata": {},
   "source": [
    "Note: to build an hmm database out of hmm profiles, concatenate the profiles into one file and then run ```hmmpress```\n",
    "\n",
    "Downloaded all files found here: http://vogdb.org/download"
   ]
  },
  {
   "cell_type": "code",
   "execution_count": 2,
   "metadata": {},
   "outputs": [],
   "source": [
    "wd = \"/mnt/scgc/simon/simonsproject/jb_vs_test/viral_dbs/VOG/vog201/\""
   ]
  },
  {
   "cell_type": "code",
   "execution_count": 3,
   "metadata": {},
   "outputs": [],
   "source": [
    "os.chdir(wd)"
   ]
  },
  {
   "cell_type": "code",
   "execution_count": 21,
   "metadata": {},
   "outputs": [
    {
     "name": "stdout",
     "output_type": "stream",
     "text": [
      "--2020-05-19 13:54:31--  http://fileshare.csb.univie.ac.at/vog/vog99/vog.raw_algs.tar.gz\n",
      "Resolving fileshare.csb.univie.ac.at (fileshare.csb.univie.ac.at)... 131.130.65.128\n",
      "Connecting to fileshare.csb.univie.ac.at (fileshare.csb.univie.ac.at)|131.130.65.128|:80... connected.\n",
      "HTTP request sent, awaiting response... 200 OK\n",
      "Length: 37606872 (36M) [application/x-gzip]\n",
      "Saving to: ‘vog.raw_algs.tar.gz’\n",
      "\n",
      "100%[======================================>] 37,606,872  3.87MB/s   in 19s    \n",
      "\n",
      "2020-05-19 13:54:50 (1.85 MB/s) - ‘vog.raw_algs.tar.gz’ saved [37606872/37606872]\n",
      "\n",
      "--2020-05-19 13:54:51--  http://fileshare.csb.univie.ac.at/vog/vog99/vog.hmm.tar.gz\n",
      "Resolving fileshare.csb.univie.ac.at (fileshare.csb.univie.ac.at)... 131.130.65.128\n",
      "Connecting to fileshare.csb.univie.ac.at (fileshare.csb.univie.ac.at)|131.130.65.128|:80... connected.\n",
      "HTTP request sent, awaiting response... 200 OK\n",
      "Length: 336759552 (321M) [application/x-gzip]\n",
      "Saving to: ‘vog.hmm.tar.gz’\n",
      "\n",
      "100%[======================================>] 336,759,552 20.2MB/s   in 35s    \n",
      "\n",
      "2020-05-19 13:55:25 (9.29 MB/s) - ‘vog.hmm.tar.gz’ saved [336759552/336759552]\n",
      "\n",
      "--2020-05-19 13:55:26--  http://fileshare.csb.univie.ac.at/vog/vog99/vog.faa.tar.gz\n",
      "Resolving fileshare.csb.univie.ac.at (fileshare.csb.univie.ac.at)... 131.130.65.128\n",
      "Connecting to fileshare.csb.univie.ac.at (fileshare.csb.univie.ac.at)|131.130.65.128|:80... connected.\n",
      "HTTP request sent, awaiting response... 200 OK\n",
      "Length: 36902351 (35M) [application/x-gzip]\n",
      "Saving to: ‘vog.faa.tar.gz’\n",
      "\n",
      "100%[======================================>] 36,902,351  12.7MB/s   in 2.8s   \n",
      "\n",
      "2020-05-19 13:55:29 (12.7 MB/s) - ‘vog.faa.tar.gz’ saved [36902351/36902351]\n",
      "\n"
     ]
    }
   ],
   "source": [
    "!wget http://fileshare.csb.univie.ac.at/vog/vog99/vog.raw_algs.tar.gz\n",
    "!wget http://fileshare.csb.univie.ac.at/vog/vog99/vog.hmm.tar.gz\n",
    "!wget http://fileshare.csb.univie.ac.at/vog/vog99/vog.faa.tar.gz    "
   ]
  },
  {
   "cell_type": "code",
   "execution_count": 15,
   "metadata": {},
   "outputs": [],
   "source": [
    "!mv ./*/*/*/* ./"
   ]
  },
  {
   "cell_type": "markdown",
   "metadata": {},
   "source": [
    "```\n",
    "tar -xzf vog.hmm.tar.gz\n",
    "mkdir hmm\n",
    "mv *.hmm hmm\n",
    "tar -xzf vog.faa.tar.gz\n",
    "mkdir indiv_vogs\n",
    "mv *.faa indiv_vogs\n",
    "cd hmm\n",
    "cat *.hmm > vog_hmm\n",
    "hmmpress vog_hmm\n",
    "```"
   ]
  },
  {
   "cell_type": "code",
   "execution_count": 4,
   "metadata": {},
   "outputs": [],
   "source": [
    "vogs = glob.glob(op.join(wd, \"faa\", \"*.faa\"))"
   ]
  },
  {
   "cell_type": "code",
   "execution_count": 5,
   "metadata": {},
   "outputs": [
    {
     "data": {
      "text/plain": [
       "25743"
      ]
     },
     "execution_count": 5,
     "metadata": {},
     "output_type": "execute_result"
    }
   ],
   "source": [
    "len(vogs)"
   ]
  },
  {
   "cell_type": "code",
   "execution_count": 6,
   "metadata": {},
   "outputs": [
    {
     "data": {
      "text/plain": [
       "'/mnt/scgc/simon/simonsproject/jb_vs_test/viral_dbs/VOG/vog201/faa/VOG00001.faa'"
      ]
     },
     "execution_count": 6,
     "metadata": {},
     "output_type": "execute_result"
    }
   ],
   "source": [
    "test = vogs[0]\n",
    "test"
   ]
  },
  {
   "cell_type": "code",
   "execution_count": 7,
   "metadata": {},
   "outputs": [],
   "source": [
    "rdf = pd.read_csv(op.join(wd, 'vog.annotations.tsv'), sep=\"\\t\")"
   ]
  },
  {
   "cell_type": "code",
   "execution_count": 9,
   "metadata": {},
   "outputs": [
    {
     "data": {
      "text/plain": [
       "[('REFSEQ hypothetical protein', 21419),\n",
       " ('REFSEQ structural protein', 68),\n",
       " ('REFSEQ minor tail protein', 42),\n",
       " ('REFSEQ membrane protein', 35),\n",
       " ('REFSEQ HNH endonuclease', 26),\n",
       " ('REFSEQ holin', 25),\n",
       " ('REFSEQ tail assembly chaperone', 23),\n",
       " ('REFSEQ putative tail fiber protein', 23),\n",
       " ('REFSEQ tail fiber protein', 21),\n",
       " ('REFSEQ putative virion structural protein', 19)]"
      ]
     },
     "execution_count": 9,
     "metadata": {},
     "output_type": "execute_result"
    }
   ],
   "source": [
    "Counter(rdf['ConsensusFunctionalDescription']).most_common()[:10]"
   ]
  },
  {
   "cell_type": "code",
   "execution_count": 10,
   "metadata": {},
   "outputs": [],
   "source": [
    "with open(op.join(wd, \"vog_proteins_nr.fasta\"), \"w\") as oh:\n",
    "    for v in vogs:\n",
    "        seqs = []\n",
    "\n",
    "        vog = op.basename(v).split(\".\")[0]\n",
    "        fcat = rdf[rdf['#GroupName'] == vog]['FunctionalCategory'].values[0]\n",
    "        fdesc = rdf[rdf['#GroupName'] == vog]['ConsensusFunctionalDescription'].values[0]\n",
    "\n",
    "        for name, seq in readfa(open(v)):\n",
    "            if seq not in seqs:\n",
    "                print(\">{name}__{fcat}__{vog}:{fdesc}\".format(name=name.replace(\" \",\"_\"), vog=vog, fcat=fcat, fdesc=fdesc.replace(\" \",\"_\")), file=oh)\n",
    "                for i in range(0, len(seq), 60):\n",
    "                    print(seq[i:i+60], file=oh)\n",
    "\n",
    "                seqs.append(seq)"
   ]
  },
  {
   "cell_type": "code",
   "execution_count": 11,
   "metadata": {
    "collapsed": true,
    "jupyter": {
     "outputs_hidden": true
    }
   },
   "outputs": [
    {
     "name": "stdout",
     "output_type": "stream",
     "text": [
      ">2547425.YP_009873962.1_DNA-binding_transcriptional_regulator_[Tenacibaculum_phage_PTm1]__Xu__VOG00001:sp|P03041|RPC1_BPP22_Transcriptional_activator_protein_C1\n",
      "MNRIKEVLEGKGIKQIWLAEQLGKSYNMVHSYVQNKRQPSLEDLYKIAKILNVEVNELLV\n",
      "SIKELN\n",
      ">37105.YP_007003000.1_putative_Cro-like_repressor_[Lactobacillus_phage_JCL1032]__Xu__VOG00001:sp|P03041|RPC1_BPP22_Transcriptional_activator_protein_C1\n",
      "MTVIKKGAGHMLKEEIDKRGLRYAFVAEKAGVAPQTLSKYLHDRIPINVNNLYKICHVVD\n",
      "VDYKKFLK\n",
      ">1445809.YP_009194019.1_helix-turn-helix_transcriptional_regulator_[Bacillus_phage_vB_BtS_BMBtp3]__Xu__VOG00001:sp|P03041|RPC1_BPP22_Transcriptional_activator_protein_C1\n",
      "MTKMIKLNTERARELRENHGYTHGYVAKRLNCHKSAYSHIERGFRQPSIDKLGKLSELYG\n",
      "VPTDELLIKSTL\n",
      ">2301601.YP_009812740.1_hypothetical_protein_[Corynebacterium_phage_SamW]__Xu__VOG00001:sp|P03041|RPC1_BPP22_Transcriptional_activator_protein_C1\n",
      "MTNAIRVRTDRMKNLTEIHGLNESETARRIGCSRQTYRRAIDGENVSAGFVAGACLSFGV\n",
      "PFDALFHTVRVEAETPAA\n",
      ">1582152.YP_009221774.1_helix-turn-helix_transcriptional_regulator_[Clostridium_phage_phiCD211]__Xu__VOG00001:sp|P03041|RPC1_BPP22_Transcriptional_activator_protein_C1\n",
      "MKLEKLIDIRKEKKYSQEDIARMLDISLRNYHRKEKGENQFTVSELEKICSYLDIESKEL\n",
      "LDI\n",
      ">330399.YP_001468871.1_helix-turn-helix_transcriptional_regulator_[Listeria_phage_A006]__Xu__VOG00001:sp|P03041|RPC1_BPP22_Transcriptional_activator_protein_C1\n",
      "MKVNEMIINLREKRNISQRELANRIGINKSVMNRIESGERDIRAHELEAIANYFDVSADY\n",
      "LLGREEFDNSDLLAAHIDDDLTEDERIEIEKYLKFIRSQKEE\n",
      ">1582152.YP_009221754.1_helix-turn-helix_transcriptional_regulator_[Clostridium_phage_phiCD211]__Xu__VOG00001:sp|P03041|RPC1_BPP22_Transcriptional_activator_protein_C1\n",
      "MSDETISKRIRKIRKNANLSQPDFGGKLGVSKDVISNIEYDRVEPKPLLINHLCSVFNVN\n",
      "KEWLINGTGDMYVSVKEDISSILGEVFYKIASSKDENLKELIINISKLDATYIASLNEIV\n",
      "KRSIQR\n",
      ">279530.YP_024899.2_gp42_[Burkholderia_phage_BcepB1A]__Xu__VOG00001:sp|P03041|RPC1_BPP22_Transcriptional_activator_protein_C1\n",
      "MRDEFPMRIIRLRRHRNMTVNQFAKYLGVGNKQVYTWEYGDSLPSFDMLYRIHTLTGVSL\n",
      "DWLVAGCGTMFPTVAHT\n",
      ">1739607.YP_009206698.1_hypothetical_protein_[Lactobacillus_phage_CL1]__Xu__VOG00001:sp|P03041|RPC1_BPP22_Transcriptional_activator_protein_C1\n",
      "MNKNKLLGTIKLKGLTVKAVLKRVNDDGINLTSSTFYKGLRDERPFKTNEIKALAKVIPL\n",
      "TRSETMDIFFTTEES\n",
      ">2070186.YP_009797355.1_toxin-antitoxin_system,_antitoxin_component,_Xre_family_protein_[Faecalibacterium_phage_FP_Taranis]__Xu__VOG00001:sp|P03041|RPC1_BPP22_Transcriptional_activator_protein_C1\n",
      "MTNTTLLKAKIDASGYKMKYIANRIGLSYQGFLNKIRNKTDFTAPEIKSLCELLHIGTEE\n",
      "MEQIFFAL\n",
      ">320839.YP_240036.1_ORF060_[Staphylococcus_virus_47]__Xu__VOG00001:sp|P03041|RPC1_BPP22_Transcriptional_activator_protein_C1\n",
      "MNKAKLYSALAMKEMHVNDFLKELNNHGLKLSKSAYYSRIRGEQEFDIKEIKTIVKVLNL\n",
      "TREEMNDIFFGELVS\n",
      ">764562.YP_004301567.1_gp33_[Brochothrix_phage_BL3]__Xu__VOG00001:sp|P03041|RPC1_BPP22_Transcriptional_activator_protein_C1\n",
      "MQTNLFLGQLKAKGKNVGWIVTEMNKSGVKISYSTFYKKLKGSSEFNAPEIKSIVKAMDY\n",
      "SKDEMYNIFFEELVS\n",
      ">1229754.YP_007112520.1_DNA-binding_protein_[Vibrio_phage_vB_VpaM_MAR]__Xu__VOG00001:sp|P03041|RPC1_BPP22_Transcriptional_activator_protein_C1\n",
      "MSRKSIVTAIKNRRVDANLTQKELADQVGMSEKTYQRLESGVADMKISQYYSILKALNIT\n",
      "DLDIVLDTYDVDAATPWDVAAAARLLLPETRNNLVASIMSEWRRAERQFNADINIKTQR\n",
      ">1897436.YP_009786960.1_hypothetical_protein_[Salinivibrio_phage_SMHB1]__Xu__VOG00001:sp|P03041|RPC1_BPP22_Transcriptional_activator_protein_C1\n",
      "MTKRAIKGPDPAILFFIRQRIVYKMTQQDVAHQAGIPFRTYQRLETGQAELKMSQFRKLC\n",
      "RLFDVTSVDVALGELQFRRRYAADVASVAATLPFEVREHFLQLMIAIRKEV\n",
      ">1980924.YP_001949891.1_Helix-turn-helix_XRE-family_like_protein_[Ralstonia_phage_phiRSL1]__Xu__VOG00001:sp|P03041|RPC1_BPP22_Transcriptional_activator_protein_C1\n",
      "MTTTNINEKFSALFRAEVKRVRKARRLKQEDVARMGGLSREAYLRFENGTSDMRISSLDA\n",
      "VLKGLGVEMEFYLLATGEAPAPTTSVAIGNMAQSLSNEPPHAGPGSGERSTGLSDAD\n",
      ">207597.NP_758895.1_ORF2_[Vibrio_phage_VHML]__Xu__VOG00001:sp|P03041|RPC1_BPP22_Transcriptional_activator_protein_C1\n",
      "MSRKSIVTAIKNRRVDANLTQKELADQVGMSEKTYQRLESGVADMKISQYYSILKALNIT\n",
      "DLDIVLDTYDVDAATPWDVAAAARLLLPETRNNLVASIMSEWRRVNGSLMLISTLKPSVS\n",
      "LH\n",
      ">40522.YP_001468419.1_helix-turn-helix_transcriptional_regulator_[Listeria_phage_A500]__Xu__VOG00001:sp|P03041|RPC1_BPP22_Transcriptional_activator_protein_C1\n",
      "MRLSFKEKRNKAGLTQRELGIAVGLAEISIRKLENGERDPSINTAVKISKALDSNMEEIF\n",
      "PDIFLNINDTKCI\n",
      ">1775140.YP_009273362.1_conjugal_transfer_protein_[Bacillus_phage_vB_BhaS-171]__Xu__VOG00001:sp|P03041|RPC1_BPP22_Transcriptional_activator_protein_C1\n",
      "MNGKLKQIRLSKNLTQQQLADMVKVEVSYISKIETGKRKPSIALLEQIANALDVPIRDFF\n",
      ">1969841.YP_009600621.1_hypothetical_protein_[Proteus_phage_VB_PmiS-Isfahan]__Xu__VOG00001:sp|P03041|RPC1_BPP22_Transcriptional_activator_protein_C1\n",
      "MNLKKMLRMIRVGLDITQAQMASDLNISPAYLSSVERGERDLTDPLIDKLYNCYEKYIDV\n",
      "DLRVVAVVHNQEMDLVNLPDYQRELLAELRFVLLSEYQCEKIKEFIK\n",
      ">947980.YP_007003237.1_transcriptional_regulator_[Lactobacillus_phage_LF1]__Xu__VOG00001:sp|P03041|RPC1_BPP22_Transcriptional_activator_protein_C1\n",
      "MTRVLKPDAYKIMNNEIKRRGLKANFVAKQIGISPSYLSQVMNGSRNLSSDVAIRASQVL\n",
      "GLPLDIFLDKS\n",
      ">139871.YP_001642347.1_hypothetical_protein_[Lactobacillus_prophage_Lj771]__Xu__VOG00001:sp|P03041|RPC1_BPP22_Transcriptional_activator_protein_C1\n",
      "MPSLTKENSAQILDMYLKEHGIKKSYLAKKMNMSPSNLTGYLNGTLRFTAEFAFGVADAL\n",
      "NISPSIFLNKSYKI\n",
      ">1567453.YP_009223132.1_DNA-binding_protein_[Lactobacillus_phage_LfeSau]__Xu__VOG00001:sp|P03041|RPC1_BPP22_Transcriptional_activator_protein_C1\n",
      "MYYNICKAKGKQKKRGGQIRGANEAITLKGGETKVKSVLKPEAPQILSEGIKDHGLKNKY\n",
      "IAGKVGVNPSYFGQMLKGSRTLSTDVAIQTALLVGVSLEDILKIFGDEA\n",
      ">1540092.YP_009151495.1_transcriptional_regulator_[Bacillus_phage_Pascal]__Xu__VOG00001:sp|P03041|RPC1_BPP22_Transcriptional_activator_protein_C1\n",
      "MLYNILELREKAGMSQVELADKLGIDKSTVNRYEKGGRQPSVEMLYKISKVLNVSIDNLI\n",
      "KGVKENDGDN\n",
      ">1838083.YP_009274086.1_immunity_repressor_[Gordonia_phage_Wizard]__Xu__VOG00001:sp|P03041|RPC1_BPP22_Transcriptional_activator_protein_C1\n",
      "MRHRLRIAREEAGLEQQSLAERMGVSRNTVSAAEKGKNAPRKVVLNAWALATGFDVKWLE\n",
      "TGIAPQPGPEGDDGCARRDSNPKPSVREVASVAATRTSSQVIPLPGRTERPDSKPAVAEP\n",
      "AAA\n",
      ">1636261.YP_009196140.1_helix-turn-helix_transcriptional_regulator_[Paenibacillus_phage_Vegas]__Xu__VOG00001:sp|P03041|RPC1_BPP22_Transcriptional_activator_protein_C1\n",
      "MEKSRRQQFQIFRKKYNVSQRKVSIDLGVSESHIRNIESGRGNPDVILLFKLAKYFNTSP\n",
      "EELFPDLAAVEVTRMTHH\n",
      ">320831.YP_239448.1_ORF020_[Staphylococcus_phage_PT1028]__Xu__VOG00001:sp|P03041|RPC1_BPP22_Transcriptional_activator_protein_C1\n",
      "MLILNNNLSLLMGKHRVTASKLSTVTGISRTSIHGLYHERTENPDTKTVMKLCEYFNITP\n",
      "NEFFGIIEKEGVK\n",
      ">1211643.YP_006989176.1_putative_HTH_domain_protein_[Caulobacter_virus_Rogue]__Xu__VOG00001:sp|P03041|RPC1_BPP22_Transcriptional_activator_protein_C1\n",
      "MPQRQKDVQAQADKPAGAQGGAQPGSSQGEAAQAAQLLSPEAIGQIGEALGGRTHWQASI\n",
      "ARRVGVSKSQITRYLNGDRTPNTALGDSYLELMLDNLAELSDLLSTPGLPQADGADVAEA\n",
      "QRHIHHAVRLLRDKVLYA\n",
      ">2070181.YP_009797024.1_helix-turn-helix_transcriptional_regulator_[Faecalibacterium_phage_FP_Brigit]__Xu__VOG00001:sp|P03041|RPC1_BPP22_Transcriptional_activator_protein_C1\n",
      "MYSKAMFAKQFKELIDKRGLTQRAVAERINTTETTISRYVSGDRTPNIETAVELASVLGV\n",
      "TLDVLVGADLPAASRTPPDVNILVACYEKASIADRQVLWSLLDRYMTPEQRVIITSMQHE\n",
      "EKADVG\n",
      ">423476.YP_001039911.1_helix-turn-helix_transcriptional_regulator_[Streptococcus_phage_phi3396]__Xu__VOG00001:sp|P03041|RPC1_BPP22_Transcriptional_activator_protein_C1\n",
      "MKLRIKYLRQALGLTQSAFAAKAHVNKNMIANYESQNSNPSLKQIEKIALAFNVEPAWLA\n",
      "GWDTKPQIVVKEKIVKVQDPSARIPNDWKNDECGRLIKWKESRKQLYKSCGG\n",
      ">1838072.YP_009274031.1_immunity_repressor_[Gordonia_phage_McGonagall]__Xu__VOG00001:sp|P03041|RPC1_BPP22_Transcriptional_activator_protein_C1\n",
      "MCRYGLFMTTAQQRGVIPTLTESQRLTVARQYVGLSQTEFATMLGVSTATVQRAESGVTR\n",
      "PRRTTFMAWSMATGVDLHWLETGEAPSPDGDGASQGCAIRDSNPEPADRLLSLVAA\n",
      ">2483611.YP_009816635.1_helix-turn-helix_transcriptional_regulator_[Pseudomonas_phage_Dobby]__Xu__VOG00001:sp|P03041|RPC1_BPP22_Transcriptional_activator_protein_C1\n",
      "MTIGERLKEERQRLGMSQTELAEQCGVSKNTQLAYEKGERSPDAAYLLRASLLGADVLYV\n",
      "ITGRRQPAELESLSQEELDVLRYMKSMEEEDRIAYLRVGRGISESTESRRTSK\n",
      ">66797.NP_046624.1_helix-turn-helix_transcriptional_regulator_[Bacillus_virus_SPbeta]__Xu__VOG00001:sp|P03041|RPC1_BPP22_Transcriptional_activator_protein_C1\n",
      "MIRSNLKSIIDERKISIRKLSRDIDHEYPTVRKLYNDEMERYPRDLLDKVCTYLNIELQE\n",
      "LLIFEKSHNHIDHSG\n",
      ">764562.YP_004301575.1_gp41_[Brochothrix_phage_BL3]__Xu__VOG00001:sp|P03041|RPC1_BPP22_Transcriptional_activator_protein_C1\n",
      "MRFTLTSIGEVQNNFSKILGERLLKITKVSEDTGIARSTLTSIYYKRNKAISFDVLVLLC\n",
      "DYLDIELSELISYKPLRKGER\n",
      ">2488654.YP_009816884.1_transcriptional_regulator_[Escherichia_phage_Skarpretter]__Xu__VOG00001:sp|P03041|RPC1_BPP22_Transcriptional_activator_protein_C1\n",
      "MQIIILIANVRKDKGKSQSDVATATGIAERQLSRYENQHEIPKLPTLAKIADYLGCTIED\n",
      "LYEVKQAGE\n",
      ">320848.YP_240706.1_helix-turn-helix_transcriptional_regulator_[Staphylococcus_virus_88]__Xu__VOG00001:sp|P03041|RPC1_BPP22_Transcriptional_activator_protein_C1\n",
      "MAKQILSKNLKNLLERKGKTQTDMAKDLNLKESTVSSWMNAVKYPRRDKIELLADYFGVM\n",
      "PSDITDDKSIHQETIAGHANKDEFTPEEWEEIENFMQWVRDRKK\n",
      ">1305708.YP_008058955.1_helix-turn-helix_transcriptional_regulator_[Clostridium_phage_vB_CpeS-CP51]__Xu__VOG00001:sp|P03041|RPC1_BPP22_Transcriptional_activator_protein_C1\n",
      "MISKNISRIAKEKNITMYRLAKDSNLSISYVWEICKGKRENPSITVICKIAKALGTTVEE\n",
      "LISK\n",
      ">10708.NP_938209.1_helix-turn-helix_domain-containing_protein_[Pseudomonas_virus_D3112]__Xu__VOG00001:sp|P03041|RPC1_BPP22_Transcriptional_activator_protein_C1\n",
      "MNIATIPKDPVMRWEWIKYQLRIRGSSTAAIARQLGVSSRAVRVAKEIPYPRVERALAAA\n",
      "LDLSPVKLWPERWIDEDNPKRQRPNRSETLLTYESYAKNTRYAPIAQRKDEARA\n",
      ">1091556.YP_009146122.1_helix-turn-helix_domain-containing_protein_[Pseudomonas_virus_LPB1]__Xu__VOG00001:sp|P03041|RPC1_BPP22_Transcriptional_activator_protein_C1\n",
      "MNRTEIPRDNNVRWEWIKYQLRARGSSLAEVARSLDVSSPAVKNAKLNPYPRVERAIAAV\n",
      "LDLSPLVLWPERWLDDENPKRQRPNRSETLKAYDSVICRSGKNTRYADQAQRKADAGA\n",
      ">1093100.YP_009591687.1_helix-turn-helix_domain-containing_protein_[Pseudomonas_virus_FHA0480]__Xu__VOG00001:sp|P03041|RPC1_BPP22_Transcriptional_activator_protein_C1\n",
      "MNRTEIPRDNNVRWEWIKYQLRARGSSLAEVARSLDVSSPAVKNAKLNPYPRVERAIAAV\n",
      "LDLSPLVLWPERWLDDENPKRQRPNRSETLKAYDSVICRSGKNNRYADQAQRKADAGA\n",
      ">1105286.YP_004934650.1_helix-turn-helix_domain-containing_protein_[Rhodobacter_phage_RcapMu]__Xu__VOG00001:sp|P03041|RPC1_BPP22_Transcriptional_activator_protein_C1\n",
      "MSKIWTKAQIKCALEEKGMTLTGLAILNDMNPSQMRSVWSRPVRSAEKVLADFLGVPPAE\n",
      "LFPTRYPMRKSSLLSAENEARIARKKAGLDPDKGVAA\n",
      ">1161903.YP_006560499.1_Ner-like_protein_[Pseudomonas_phage_MP42]__Xu__VOG00001:sp|P03041|RPC1_BPP22_Transcriptional_activator_protein_C1\n",
      "MRWEWIKYQLRIRGSSTAAIARQLGVSSRAVRVAKEIPYPRVERALAAALDLSPVKLWPE\n",
      "RWIDEDNPKRQRPNRSETLLAYESYAKNTRYAPIAQRKDEARA\n",
      ">1223260.YP_007392309.1_helix-turn-helix_domain-containing_protein_[Pseudomonas_phage_JBD30]__Xu__VOG00001:sp|P03041|RPC1_BPP22_Transcriptional_activator_protein_C1\n",
      "MNRTEIPRDNNVRWEWIKYQLRARGSSLAEVARSLDVSSPAVKNAKLTPYPRVERAIAAV\n",
      "LDLSPLVLWPERWLDDENPKRQRPNRSETLQAYVRHMPGAEENTRYADQAQRKAGAGA\n",
      ">1391190.YP_009055230.1_Ner-like_protein_[Pseudomonas_phage_MP48]__Xu__VOG00001:sp|P03041|RPC1_BPP22_Transcriptional_activator_protein_C1\n",
      "MNIATIPKDPVMRWEWIKYQLRIRGSSTAAIARQLGVSSRAVRVAKEIPYPRVERALAAA\n",
      "LDLSPVKLWPERWIDEDNPKRQRPNRSETLLAYESYAKNTRYAPIAQRKDEARA\n",
      ">1483485.YP_009226508.1_helix-turn-helix_domain-containing_protein_[Ralstonia_phage_RS138]__Xu__VOG00001:sp|P03041|RPC1_BPP22_Transcriptional_activator_protein_C1\n",
      "MNKLHTPKKPVAKDWHRADVKAALEKAGITLRQLSIQNGYAPTSLVNALNTPWPAAERII\n",
      "AAEIGVAPHVIWPSRYDEHGNPKSGRHQRGIGRRSGRKSTSQLPASNVENVAAA\n",
      ">1567022.YP_009152188.1_helix-turn-helix_domain-containing_protein_[Shigella_phage_SfMu]__Xu__VOG00001:sp|P03041|RPC1_BPP22_Transcriptional_activator_protein_C1\n",
      "MHMNKRANRQDWHRADIVAELRKRNMSLAELGRSNHLSSSTLKNALDKRYPKAEKIIADA\n",
      "LGMTPQDIWPSRY\n",
      ">1572750.YP_009196051.1_helix-turn-helix_domain-containing_protein_[Mannheimia_phage_vB_MhM_3927AP2]__Xu__VOG00001:sp|P03041|RPC1_BPP22_Transcriptional_activator_protein_C1\n",
      "MNKKKRAQDMHRADIRAELMKKGITFSQLGIENGLSKTTVRNALDKPYKNGEEIIAKALG\n",
      "KTPAEIWPSRYPDVA\n",
      ">2681603.NP_050606.1_helix-turn-helix_domain-containing_protein_[Escherichia_phage_Mu]__Xu__VOG00001:sp|P03041|RPC1_BPP22_Transcriptional_activator_protein_C1\n",
      "MCSNEKARDWHRADVIAGLKKRKLSLSALSRQFGYAPTTLANALERHWPKGEQIIANALE\n",
      "TKPEVIWPSRYQAGE\n",
      ">397353.YP_001469131.1_helix-turn-helix_domain-containing_protein_[Pseudomonas_virus_MP22]__Xu__VOG00001:sp|P03041|RPC1_BPP22_Transcriptional_activator_protein_C1\n",
      "MNRTEIPRDNNVRWEWIKYQLRARGSSLAEVARSLDVSSPAVKNAKLNPYPRVERAIAAV\n",
      "LDLSPLVLWPERWLDDENPKRQRPNRSETLQAYVRHMPGAEENTRYADQAQRKADAGA\n",
      ">483266.YP_007002910.1_transcriptional_regulator_[Haemophilus_phage_SuMu]__Xu__VOG00001:sp|P03041|RPC1_BPP22_Transcriptional_activator_protein_C1\n",
      "MSTLTEPKKTAQDWHRADIIAALHKAGWSLRQLSLQHGYSQASTLKNALDRPWRKGEQII\n",
      "ADAIGVPPEEIWAGRFAQRSLKKFAERTL\n",
      ">573175.YP_007877549.1_helix-turn-helix_domain-containing_protein_[Vibrio_phage_martha_12B12]__Xu__VOG00001:sp|P03041|RPC1_BPP22_Transcriptional_activator_protein_C1\n",
      "MSLNKRDMAREDIVAELKKRKISLRSLGRQNGLSPHTLKNALDKSYRNGEIIIAKALGMK\n",
      "PEDVWPSRYQSFHNAA\n",
      ">665033.YP_003335750.1_helix-turn-helix_domain-containing_protein_[Escherichia_phage_D108]__Xu__VOG00001:sp|P03041|RPC1_BPP22_Transcriptional_activator_protein_C1\n",
      "MHMNKRTNRQDWHRADIVAELRKRNMSLAELGRSNHLSSSTLKNALDKRYPKAEKIIADA\n",
      "LGMTPQDIWPSRY\n",
      ">929834.YP_008129816.1_helix-turn-helix_domain-containing_protein_[Rhizobium_phage_RR1-B]__Xu__VOG00001:sp|P03041|RPC1_BPP22_Transcriptional_activator_protein_C1\n",
      "MSKSKPVMDWQAIKAEVHRRGMTLTELAIRSGLHSSLLRKLNTITHYEGQATLASFIEQK\n",
      "PEHLWPNRYPKKSSGILDTAKYPPLESQKSNVAADTRVAA\n",
      ">1239381.YP_006990372.1_hypothetical_protein_[Streptococcus_phage_phiNJ2]__Xu__VOG00001:sp|P03041|RPC1_BPP22_Transcriptional_activator_protein_C1\n",
      "MFKKFEPNKRKETGMVKDFSKLSGRIVEKFVTQSNFAVAMGLSERSISLKLNGKVSWKDD\n",
      "EIEKAIKLLELAVEDIPKYFFTRKVQVT\n",
      ">1589750.YP_009197981.1_helix-turn-helix_domain-containing_protein_[Paenibacillus_phage_Diva]__Xu__VOG00001:sp|P03041|RPC1_BPP22_Transcriptional_activator_protein_C1\n",
      "MIFTNEVKAEMEKKHITKSDLARATGYSYQHIYDLLAGQRRWNEVSMEKVCKVLELEIKV\n",
      "IPKKRGTKNGQLLIDSREVATMIGK\n",
      ">1589751.YP_009202248.1_DNA_binding_protein_[Bacteriophage_Lily]__Xu__VOG00001:sp|P03041|RPC1_BPP22_Transcriptional_activator_protein_C1\n",
      "MIFTNEVKAEMEKKHITKSDLARATGYSYQHIYDLLAGQRRWNEVSIEKVCKVLELEIKV\n",
      "IPKKRGA\n",
      ">2499009.YP_009818592.1_immunity_repressor_[Arthrobacter_phage_Maja]__Xu__VOG00001:sp|P03041|RPC1_BPP22_Transcriptional_activator_protein_C1\n",
      "MLTFPNGGYRCRMGTYGTDIQAAMATQIKAEMAARDWKQSDLSRATGIVSSTLYRYLSGQ\n",
      "RDIPLPAFAEIAKALGLSMVELASRAQRRLDGENVQ\n",
      ">1168280.YP_006590016.1_putative_transcriptional_repressor_DicA_[Cronobacter_phage_phiES15]__Xu__VOG00001:sp|P03041|RPC1_BPP22_Transcriptional_activator_protein_C1\n",
      "MKTAHISERISARRKELGFTQQQLADKVQKSSVSVFKWENGQTEPKGKSLFALAAALRCS\n",
      "PAWLMFGDEDKSPAPADSLPTELDERQKRLLDLFESLPESEKESIISELEVRVDNFNRLF\n",
      "EELLKVRKDRPSKK\n",
      ">906669.YP_004934080.1_helix-turn-helix_transcriptional_regulator_[Escherichia_phage_HK639]__Xu__VOG00001:sp|P03041|RPC1_BPP22_Transcriptional_activator_protein_C1\n",
      "MKTFAERLNAAMSAADISQGQLADKVGISQPAIQKMTSGKTSGSRKMVELAHALGVRPEW\n",
      "LSSGVGEMRIDGNVPSAAQPVSETIDVFRVDVLDLKVSAGPGSFMISEFVEVLHAIEFTT\n",
      "EHARSLFGNRTQNDVKVMTVDGDSMCPTIQSGDRLFFDVSVRNFKVDGVYAFVFGQHFHV\n",
      "KRLQMQGLQLAVLSDNPAYKDWYVTEENQDQLYIMGKALIHESIAYNKL\n",
      ">1582156.YP_009206167.1_transcriptional_regulator_[Clostridium_phage_phiMMP01]__Xu__VOG00001:sp|P03041|RPC1_BPP22_Transcriptional_activator_protein_C1\n",
      "MYLNRLEGLMKENRHTQKNVADILGLSSYGFRLKLKGKNEFKASEIKKISKLYNVSADYF\n",
      "FSDEVAKIAIKEERGNNNEESNHNQAK\n",
      ">1739610.YP_009197552.1_repressor_[Lactobacillus_phage_iLp84]__Xu__VOG00001:sp|P03041|RPC1_BPP22_Transcriptional_activator_protein_C1\n",
      "MSFGERLRELRNEKKMTQSDVGKIINVSKASVSLYEKNERTPDQDSIKKLARYFNVSTDF\n",
      "LLGVTDVRSKPEQIDISDSKNDTIMTFEGRPIPPEDLEIIKRLLRGGKHDD\n",
      ">10713.YP_007947969.1_helix-turn-helix_domain-containing_protein_[Enterobacteria_phage_phi80_(Lula)]__Xu__VOG00001:sp|P03041|RPC1_BPP22_Transcriptional_activator_protein_C1\n",
      "MINKKSNASTPLEKAINAVGGSQKVLAEKVGVTPQAINMLKKRGGSLPVTKMRKYEEVTG\n",
      "LPREVLYPGIFAA\n",
      ">1147144.YP_007112180.1_helix-turn-helix_domain-containing_protein_[Enterobacteria_phage_HK225]__Xu__VOG00001:sp|P03041|RPC1_BPP22_Transcriptional_activator_protein_C1\n",
      "MINKESNASTPLEKAINAVGGSQKVLAEKVGVTPQAINMLKKRGGSLPVTKMRKYEEVTG\n",
      "LPREVLYPGIFAA\n",
      ">1449437.YP_009007118.1_helix-turn-helix_domain-containing_protein_[Pseudomonas_phage_vB_PaeP_Tr60_Ab31]__Xu__VOG00001:sp|P03041|RPC1_BPP22_Transcriptional_activator_protein_C1\n",
      "MEEHPICKAVKAAGGQSALARILNVTPQAVQKMCAFGRVPAKRVLEIEKATGVSRHELRP\n",
      "DLYPLAA\n",
      ">1007869.YP_008061092.1_putative_DNA-binding_helix-turn-helix_protein_[Rhodococcus_phage_E3]__Xu__VOG00001:sp|P03041|RPC1_BPP22_Transcriptional_activator_protein_C1\n",
      "MEVIHPGKLLAEELDTQGITQHALAKAIGVPPRRINEIVKRKRRITPDTALRLGRYFGVS\n",
      "AAFWLNMQSHHDIERRRAEISDDLRDIMPIGWGPSK\n",
      ">1127514.YP_007007711.1_hypothetical_protein_[Aeromonas_phage_vB_AsaM-56_(phage_56-Popoff)]__Xu__VOG00001:sp|P03041|RPC1_BPP22_Transcriptional_activator_protein_C1\n"
     ]
    }
   ],
   "source": [
    "!head {op.join(wd, \"vog_proteins_nr.fasta\")} -n200"
   ]
  },
  {
   "cell_type": "code",
   "execution_count": 12,
   "metadata": {},
   "outputs": [
    {
     "name": "stdout",
     "output_type": "stream",
     "text": [
      "254305\n"
     ]
    }
   ],
   "source": [
    "!grep -c \">\" {op.join(wd, \"vog_proteins_nr.fasta\")}"
   ]
  },
  {
   "cell_type": "code",
   "execution_count": 13,
   "metadata": {},
   "outputs": [
    {
     "name": "stdout",
     "output_type": "stream",
     "text": [
      "\n",
      "\n",
      "Building a new DB, current time: 10/02/2020 12:34:10\n",
      "New DB name:   /mnt/scgc/simon/simonsproject/jb_vs_test/viral_dbs/VOG/vog201/vog_proteins_nr.fasta\n",
      "New DB title:  /mnt/scgc/simon/simonsproject/jb_vs_test/viral_dbs/VOG/vog201/vog_proteins_nr.fasta\n",
      "Sequence type: Protein\n",
      "Keep MBits: T\n",
      "Maximum file size: 1000000000B\n",
      "Adding sequences from FASTA; added 254305 sequences in 8.11439 seconds.\n"
     ]
    }
   ],
   "source": [
    "!makeblastdb -in {op.join(wd, \"vog_proteins_nr.fasta\")} -dbtype prot "
   ]
  },
  {
   "cell_type": "code",
   "execution_count": 6,
   "metadata": {},
   "outputs": [
    {
     "name": "stdout",
     "output_type": "stream",
     "text": [
      "USAGE\n",
      "  makeblastdb [-h] [-help] [-in input_file] [-input_type type]\n",
      "    -dbtype molecule_type [-title database_title] [-parse_seqids]\n",
      "    [-hash_index] [-mask_data mask_data_files] [-mask_id mask_algo_ids]\n",
      "    [-mask_desc mask_algo_descriptions] [-gi_mask]\n",
      "    [-gi_mask_name gi_based_mask_names] [-out database_name]\n",
      "    [-max_file_sz number_of_bytes] [-logfile File_Name] [-taxid TaxID]\n",
      "    [-taxid_map TaxIDMapFile] [-version]\n",
      "\n",
      "DESCRIPTION\n",
      "   Application to create BLAST databases, version 2.2.31+\n",
      "\n",
      "Use '-help' to print detailed descriptions of command line arguments\n",
      "========================================================================\n",
      "\n",
      "Error: Unknown argument: \"-help\"\n"
     ]
    }
   ],
   "source": [
    "!makeblastdb --help"
   ]
  },
  {
   "cell_type": "code",
   "execution_count": null,
   "metadata": {
    "collapsed": true,
    "jupyter": {
     "outputs_hidden": true
    }
   },
   "outputs": [],
   "source": []
  }
 ],
 "metadata": {
  "kernelspec": {
   "display_name": "Python 3",
   "language": "python",
   "name": "python3"
  },
  "language_info": {
   "codemirror_mode": {
    "name": "ipython",
    "version": 3
   },
   "file_extension": ".py",
   "mimetype": "text/x-python",
   "name": "python",
   "nbconvert_exporter": "python",
   "pygments_lexer": "ipython3",
   "version": "3.6.7"
  }
 },
 "nbformat": 4,
 "nbformat_minor": 4
}
